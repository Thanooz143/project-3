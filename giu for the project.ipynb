{
 "cells": [
  {
   "cell_type": "code",
   "execution_count": 9,
   "id": "b36edff4",
   "metadata": {},
   "outputs": [
    {
     "name": "stderr",
     "output_type": "stream",
     "text": [
      "WARNING:absl:Compiled the loaded model, but the compiled metrics have yet to be built. `model.compile_metrics` will be empty until you train or evaluate the model.\n"
     ]
    }
   ],
   "source": [
    "import tkinter as tk\n",
    "from tkinter import filedialog, Label\n",
    "from keras.models import load_model\n",
    "from PIL import Image, ImageTk\n",
    "import numpy as np\n",
    "import cv2\n",
    "\n",
    "model = load_model('C:/Users/thano/Downloads/data science/interm/project 3/newsign_language_model.h5')\n",
    "\n"
   ]
  },
  {
   "cell_type": "markdown",
   "id": "d8229fc4",
   "metadata": {},
   "source": [
    "# function for image detection"
   ]
  },
  {
   "cell_type": "code",
   "execution_count": 10,
   "id": "712105e2",
   "metadata": {},
   "outputs": [],
   "source": [
    "\n",
    "def upload_image():\n",
    "    file_path = filedialog.askopenfilename()\n",
    "    if file_path:\n",
    "        process_image(file_path)\n",
    "        \n",
    "def process_image(file_path):\n",
    "    \n",
    "    image = Image.open(file_path).convert('RGB')\n",
    "    image = image.resize((64, 64))\n",
    "    image_array = np.array(image) / 255.0  # Normalize\n",
    "\n",
    "    image_array = np.expand_dims(image_array, axis=0)\n",
    "\n",
    "    prediction = model.predict(image_array)\n",
    "    predicted_index = np.argmax(prediction, axis=1)[0]\n",
    "    predicted_class_name = class_names[predicted_index]  \n",
    "    \n",
    "    result_label.config(text=f\"Predicted Sign: {predicted_class_name}\")\n",
    "\n",
    "\n",
    "    img = ImageTk.PhotoImage(image.resize((200, 200)))\n",
    "    image_label.config(image=img)\n",
    "    image_label.image = img\n",
    "    \n",
    "\n"
   ]
  },
  {
   "cell_type": "markdown",
   "id": "6a1a4abc",
   "metadata": {},
   "source": [
    "# function for real time viedoe"
   ]
  },
  {
   "cell_type": "code",
   "execution_count": 11,
   "id": "fd539294",
   "metadata": {},
   "outputs": [],
   "source": [
    "box_start_x = 200  \n",
    "box_start_y = 150  \n",
    "box_width = 200    \n",
    "box_height = 200  \n",
    "\n",
    "\n",
    "def start_video():\n",
    "    cap = cv2.VideoCapture(0)\n",
    "    \n",
    "    while cap.isOpened():\n",
    "        ret, frame = cap.read()\n",
    "        if not ret:\n",
    "            break\n",
    "\n",
    "        cv2.rectangle(frame, (box_start_x, box_start_y), \n",
    "                      (box_start_x + box_width, box_start_y + box_height), \n",
    "                      (255, 0, 0), 2) \n",
    "\n",
    "\n",
    "        roi = frame[box_start_y:box_start_y + box_height, box_start_x:box_start_x + box_width]\n",
    "        img = cv2.resize(roi, (64, 64))  \n",
    "        img = cv2.cvtColor(img, cv2.COLOR_BGR2RGB)  \n",
    "        img_array = np.expand_dims(np.array(img) / 255.0, axis=0) \n",
    "        prediction = model.predict(img_array)\n",
    "        predicted_class = np.argmax(prediction, axis=1)\n",
    "        cv2.putText(frame, f\"Predicted Sign: {predicted_class[0]}\", (10, 50), \n",
    "                    cv2.FONT_HERSHEY_SIMPLEX, 1, (0, 255, 0), 1)\n",
    "        cv2.imshow('Real-Time Sign Language Detection', frame)\n",
    "\n",
    "        if cv2.waitKey(1) & 0xFF == ord('q'):\n",
    "            break\n",
    "    cap.release()\n",
    "    cv2.destroyAllWindows() "
   ]
  },
  {
   "cell_type": "markdown",
   "id": "23be7cd7",
   "metadata": {},
   "source": [
    "# giu (to stop video click q)"
   ]
  },
  {
   "cell_type": "code",
   "execution_count": 12,
   "id": "5ed65295",
   "metadata": {},
   "outputs": [],
   "source": [
    "\n",
    "root = tk.Tk()\n",
    "root.title(\"Sign Language Detection\")\n",
    "root.geometry(\"800x600\")\n",
    "root.config(bg='lightblue') \n",
    "\n",
    "\n",
    "upload_button = tk.Button(root, text=\"Upload Image\", command=upload_image, width=30, height=5,bg='lightpink',fg='black')\n",
    "upload_button.pack(pady=20)\n",
    "\n",
    "video_button = tk.Button(root, text=\"Start Video Detection\", command=start_video, width=30, height=5,bg='lightpink',fg='black')\n",
    "video_button.pack(pady=20)\n",
    "\n",
    "result_label = Label(root, text=\"Predicted Sign: None\", font=(\"Helvetica\", 16))\n",
    "result_label.pack(pady=20)\n",
    "\n",
    "image_label = Label(root)\n",
    "image_label.pack(pady=10)\n",
    "\n",
    "\n",
    "root.mainloop()"
   ]
  },
  {
   "cell_type": "code",
   "execution_count": null,
   "id": "a48cd779",
   "metadata": {},
   "outputs": [],
   "source": []
  },
  {
   "cell_type": "code",
   "execution_count": null,
   "id": "520f3c97",
   "metadata": {},
   "outputs": [],
   "source": []
  }
 ],
 "metadata": {
  "kernelspec": {
   "display_name": "Python 3 (ipykernel)",
   "language": "python",
   "name": "python3"
  },
  "language_info": {
   "codemirror_mode": {
    "name": "ipython",
    "version": 3
   },
   "file_extension": ".py",
   "mimetype": "text/x-python",
   "name": "python",
   "nbconvert_exporter": "python",
   "pygments_lexer": "ipython3",
   "version": "3.9.13"
  }
 },
 "nbformat": 4,
 "nbformat_minor": 5
}
